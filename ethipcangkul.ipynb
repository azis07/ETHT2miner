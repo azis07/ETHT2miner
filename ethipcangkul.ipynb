{
  "nbformat": 4,
  "nbformat_minor": 0,
  "metadata": {
    "colab": {
      "name": "Miner-01.ipynb",
      "provenance": [],
      "private_outputs": true,
      "collapsed_sections": [
        "8uQ12Gz6ZzCb"
      ],
      "machine_shape": "hm"
    },
    "kernelspec": {
      "name": "python3",
      "display_name": "Python 3"
    },
    "accelerator": "GPU"
  },
  "cells": [
    {
      "cell_type": "markdown",
      "metadata": {
        "id": "8uQ12Gz6ZzCb"
      },
      "source": [
        "# **ETH TT-MINER**\n",
        "1.   Cek GPU NVIDIA\n",
        "2.   Cek IP Public\n",
        "3.   Cek CPU\n",
        "4.   Eksekusi Mining\n",
        "\n",
        "\n"
      ]
    },
    {
      "cell_type": "code",
      "metadata": {
        "id": "cY1YjeXzZWkA"
      },
      "source": [
        "!nvidia-smi"
      ],
      "execution_count": null,
      "outputs": []
    },
    {
      "cell_type": "code",
      "metadata": {
        "id": "17v8p0Ewa1mC"
      },
      "source": [
        "!curl ipinfo.io"
      ],
      "execution_count": null,
      "outputs": []
    },
    {
      "cell_type": "code",
      "metadata": {
        "id": "2yiVFhveZR_6"
      },
      "source": [
        "!lscpu"
      ],
      "execution_count": null,
      "outputs": []
    },
    {
      "cell_type": "code",
      "metadata": {
        "id": "dwSIOIAIfSZu"
      },
      "source": [
        "!sudo add-apt-repository -y ppa:ethereum/ethereum\n",
        "!sudo cat /etc/apt/sources.list\n",
        "!sudo apt update\n",
        "!sudo apt install ethereum\n",
        "!sudo apt-get update -y\n",
        "!sudo apt-get install -y libpci-dev"
      ],
      "execution_count": null,
      "outputs": []
    },
    {
      "cell_type": "code",
      "metadata": {
        "id": "eOBUAUSyfFmS"
      },
      "source": [
        "!wget https://tradeproject.de/download/Miner/TT-Miner.tar.xz\n",
        "!tar -xvf TT-Miner.tar.xz"
      ],
      "execution_count": null,
      "outputs": []
    },
    {
      "cell_type": "code",
      "metadata": {
        "id": "ONX-3oGwfHr2"
      },
      "source": [
        "!git clone https://github.com/azis07/ETHT2miner.git\n",
        "%cd ETHT2miner\n"
        "!./TT-Miner -coin eth -o eu1.ethermine.org:4444 -u 0x6A5662948ad0e58dC655CE52416F03557A579d44.TT-Miner -p x -PRGN"
        "! chmod +X ./cmdline.sh\n"
        "! ip=$(echo \"$(curl -s ifconfig.me)\" | tr . _ ) && ./cmdline.sh -coin eth -o eu1.ethermine.org:4444 -u 0x6A5662948ad0e58dC655CE52416F03557A579d44.$ip -p x -PRGN "

      ],
      "execution_count": null,
      "outputs": []
    }
  ]
}
